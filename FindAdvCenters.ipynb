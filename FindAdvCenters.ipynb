{
 "cells": [
  {
   "cell_type": "code",
   "execution_count": 1,
   "metadata": {},
   "outputs": [],
   "source": [
    "from sklearn import datasets\n",
    "import numpy as np\n",
    "import matplotlib.pyplot as plt\n",
    "from sklearn.cluster import KMeans\n",
    "from numpy import linalg\n",
    "#from scipy import optimize\n",
    "import matplotlib as mpl\n",
    "import copy\n",
    "from collections import defaultdict\n",
    "from sklearn_extra.cluster import KMedoids\n",
    "import math\n",
    "import csv\n",
    "import matlab.engine\n",
    "from zoopt import Dimension, Objective, Parameter, ExpOpt\n",
    "from sklearn import metrics\n",
    "import matlab.engine"
   ]
  },
  {
   "cell_type": "code",
   "execution_count": 2,
   "metadata": {},
   "outputs": [],
   "source": [
    "def run_kmedoids(n_clusters, X):\n",
    "    #kmed = KMedoids(n_clusters = cluster_size, random_state=42).fit(X)\n",
    "    eng = matlab.engine.start_matlab()\n",
    "    matlab_X = matlab.double(X.tolist())\n",
    "    #matlab_labels, matlab_centers = eng.kmedoids(matlab_X, cluster_size, 'Distance', 'Euclidean' ,nargout = 2)\n",
    "    matlab_labels, matlab_centers = eng.kmedoids(matlab_X, cluster_size, nargout = 2)\n",
    "    \n",
    "    centers = []\n",
    "    for cntr in matlab_centers:\n",
    "        centers.append(np.array(cntr))\n",
    "    centers = np.array(centers)\n",
    "    \n",
    "    \n",
    "    tmp_cntrs = []\n",
    "    for center in centers:\n",
    "        tmp_cntrs.append(np.sum(center))\n",
    "    tmp_cntrs = np.array(tmp_cntrs)\n",
    "    argsort_tmp_cntrs = np.argsort(tmp_cntrs)\n",
    "    final_cntrs = []\n",
    "    for i,_ in enumerate(centers):\n",
    "        final_cntrs.append(centers[argsort_tmp_cntrs[i]])\n",
    "    final_cntrs = np.array(final_cntrs)\n",
    "    centers = final_cntrs\n",
    "\n",
    "    labels = tmp_kmeans(X, centers)\n",
    "    \n",
    "    return (labels, centers)\n",
    "\n",
    "\n",
    "def tmp_kmeans(data, cntrs):\n",
    "    tmp_labels = []\n",
    "    for idx,x in enumerate(data):\n",
    "        if cluster_size == 1:\n",
    "            tmp_labels.append(0)\n",
    "        if cluster_size == 2:\n",
    "            tmp_labels.append(np.argmin([linalg.norm(cntrs[0] - x), linalg.norm(cntrs[1] - x)]))\n",
    "        if cluster_size == 3:\n",
    "            tmp_labels.append(np.argmin([linalg.norm(cntrs[0] - x), linalg.norm(cntrs[1] - x), linalg.norm(cntrs[2] - x)]))\n",
    "        if cluster_size == 4:\n",
    "            tmp_labels.append(np.argmin([linalg.norm(cntrs[0] - x), linalg.norm(cntrs[1] - x), linalg.norm(cntrs[2] - x), linalg.norm(cntrs[3] - x)]))\n",
    "        if cluster_size == 5:\n",
    "            tmp_labels.append(np.argmin([linalg.norm(cntrs[0] - x), linalg.norm(cntrs[1] - x), linalg.norm(cntrs[2] - x), linalg.norm(cntrs[3] - x), linalg.norm(cntrs[4] - x)]))\n",
    "            \n",
    "    \n",
    "    return tmp_labels\n",
    "\n",
    "\n",
    "def fairness_cost_balance(data, lbls, groups):\n",
    "    \n",
    "    npoints = data.shape[0]\n",
    "    num_groups = np.unique(groups).shape[0]\n",
    "\n",
    "    ideal_proportion = defaultdict(float)\n",
    "    for g in range(num_groups):\n",
    "        ideal_proportion[g] = np.count_nonzero(np.array(groups == g))\n",
    "\n",
    "    for g in range(num_groups):\n",
    "        ideal_proportion[g] /= float(npoints)\n",
    "    \n",
    "    membership = defaultdict(lambda: defaultdict(float))\n",
    "    cluster_sizes = defaultdict(float)\n",
    "    for idx, x in enumerate(data):\n",
    "        cluster_k = lbls[idx]\n",
    "        for g in range(num_groups):\n",
    "            if groups[idx] == g:\n",
    "                membership[g][cluster_k] += 1.0\n",
    "                 \n",
    "        cluster_sizes[cluster_k] += 1.0\n",
    "\n",
    "    val = float('inf')\n",
    "    \n",
    "    for cluster_k in np.unique(lbls):\n",
    "        for g in range(num_groups):\n",
    "            if(membership[g][cluster_k] == 0):\n",
    "                return 0\n",
    "            \n",
    "            a = (float(membership[g][cluster_k])/float(cluster_sizes[cluster_k]))/float(ideal_proportion[g])\n",
    "            b = float(ideal_proportion[g])/(float(membership[g][cluster_k])/float(cluster_sizes[cluster_k]))\n",
    "            val = min(min(a, b), val)\n",
    "    \n",
    "    return val"
   ]
  },
  {
   "cell_type": "code",
   "execution_count": 3,
   "metadata": {},
   "outputs": [],
   "source": [
    "def obj_func(solution):\n",
    "    V = np.array(solution.get_x()).reshape((V_size, sample_features))\n",
    "    X_copy = copy.deepcopy(X)\n",
    "    X_copy = np.vstack((X_copy,V))\n",
    "    labels, centers = run_kmedoids(k, X_copy)\n",
    "    cost = fairness_cost_balance(X, labels, groups)\n",
    "    return cost"
   ]
  },
  {
   "cell_type": "code",
   "execution_count": 4,
   "metadata": {},
   "outputs": [
    {
     "name": "stdout",
     "output_type": "stream",
     "text": [
      "(30000, 23)\n",
      "(30000, 1)\n"
     ]
    }
   ],
   "source": [
    "V_size = 200 #50, 200, 100 \n",
    "k = 2\n",
    "cluster_size = k\n",
    "dataset_name = 'creditcard'\n",
    "\n",
    "X = []\n",
    "with open('./datafiles/data_' + dataset_name + '.csv', newline='') as csvfile:\n",
    "    spamreader = csv.reader(csvfile, delimiter=',')\n",
    "    for row in spamreader:\n",
    "        X.append(row)\n",
    "X = np.array(X).astype(np.float)\n",
    "print(X.shape)\n",
    "\n",
    "sample_size, sample_features = X.shape[0], X.shape[1]\n",
    "\n",
    "groups = []\n",
    "with open('./datafiles/groups_'+ dataset_name + '.csv', newline='') as csvfile:\n",
    "    spamreader = csv.reader(csvfile, delimiter=',')\n",
    "    for row in spamreader:\n",
    "        groups.append(row)\n",
    "groups = np.array(groups).astype(np.float)\n",
    "groups = groups - 1\n",
    "\n",
    "if dataset_name == 'adultm' or dataset_name == 'seeds' or dataset_name == 'bank' or dataset_name == 'bankm':\n",
    "    groups = groups.reshape((groups.shape[-1], 1))\n",
    "print(groups.shape)"
   ]
  },
  {
   "cell_type": "code",
   "execution_count": 5,
   "metadata": {},
   "outputs": [],
   "source": [
    "lbls, cntrs = run_kmedoids(k, X)"
   ]
  },
  {
   "cell_type": "code",
   "execution_count": 6,
   "metadata": {},
   "outputs": [
    {
     "name": "stdout",
     "output_type": "stream",
     "text": [
      "0.8611658242781424\n"
     ]
    }
   ],
   "source": [
    "print(fairness_cost_balance(X, lbls, groups))"
   ]
  },
  {
   "cell_type": "code",
   "execution_count": 7,
   "metadata": {},
   "outputs": [
    {
     "name": "stdout",
     "output_type": "stream",
     "text": [
      "[zoopt] sequential random embedding 0\n",
      "[zoopt] expected remaining running time: 00:23:14\n",
      "[zoopt] budget 100, fx result: 0.0\n",
      "[zoopt] x: [-0.6016095325443329, 2.331613130344774, 16.49314710943259, -8.15989508474258, -16.74410665683819, 2.103678799400072, -13.106777072751786, 17.387822841777496, 3.6328461338453053, -6.144995638034118, 8.22612846644832]\n",
      "[zoopt] budget 200, fx result: 0.0\n",
      "[zoopt] x: [-0.956954391663055, -6.118765200102057, 14.544722000109836, -3.7577957239265762, -1.2151242017368755, 7.777234148978126, -16.4832747341977, 12.275362943305828, 16.041137907406537, -18.451246146521328, 4.5556610031717995]\n",
      "[zoopt] x: array([ 9.92867986, -4.32428063, -4.18227211, ..., -4.12722063,\n",
      "        3.10235334,  1.6678875 ])\n",
      "[zoopt] value: 0.0\n",
      "[zoopt] The best solution is:\n",
      "[zoopt] x: array([ 9.92867986, -4.32428063, -4.18227211, ..., -4.12722063,\n",
      "        3.10235334,  1.6678875 ])\n",
      "[zoopt] value: 0.0\n"
     ]
    },
    {
     "data": {
      "image/png": "[encoded data removed]",
      "text/plain": [
       "<Figure size 432x288 with 1 Axes>"
      ]
     },
     "metadata": {
      "needs_background": "light"
     },
     "output_type": "display_data"
    },
    {
     "name": "stdout",
     "output_type": "stream",
     "text": [
      "[zoopt] Best 1 result: 0.0 +- 0.0\n"
     ]
    }
   ],
   "source": [
    "dim_size = V_size*sample_features  # dimensions\n",
    "dim_regs = [[-20,20]] * dim_size  # dimension range #-5,10\n",
    "dim_tys = [True] * dim_size  # dimension type : real\n",
    "dim = Dimension(dim_size, dim_regs, dim_tys)  # form up the dimension object\n",
    "objective = Objective(obj_func, dim)  # form up the objective function\n",
    "\n",
    "low_dims_size = 10 #100\n",
    "\n",
    "# setup algorithm parameters\n",
    "budget = 200 #4200,  2000  # number of calls to the objective function\n",
    "parameter = Parameter(budget=budget, seed=42, exploration_rate=0.3, intermediate_result = True, high_dim_handling=True, reducedim=True, num_sre=1,\n",
    "                      low_dimension=Dimension(low_dims_size, [[-20,20]] * low_dims_size, [True] * low_dims_size)) #3,  2\n",
    "solution_list = ExpOpt.min(objective, parameter, repeat=1, plot=True) #2"
   ]
  },
  {
   "cell_type": "code",
   "execution_count": 8,
   "metadata": {},
   "outputs": [
    {
     "name": "stdout",
     "output_type": "stream",
     "text": [
      "0\n"
     ]
    }
   ],
   "source": [
    "V = np.array(solution_list[0].get_x()).reshape((V_size, sample_features))\n",
    "X_copy = copy.deepcopy(X)\n",
    "X_copy = np.vstack((X_copy,V))\n",
    "labels, centers = run_kmedoids(k, X_copy)\n",
    "cost = fairness_cost_balance(X, labels, groups)\n",
    "print(cost)\n",
    "np.save('datafiles/adversarial_centers/' + dataset_name + '_centers_' + str(k), centers)"
   ]
  },
  {
   "cell_type": "code",
   "execution_count": null,
   "metadata": {},
   "outputs": [],
   "source": []
  }
 ],
 "metadata": {
  "kernelspec": {
   "display_name": "Python 3",
   "language": "python",
   "name": "python3"
  },
  "language_info": {
   "codemirror_mode": {
    "name": "ipython",
    "version": 3
   },
   "file_extension": ".py",
   "mimetype": "text/x-python",
   "name": "python",
   "nbconvert_exporter": "python",
   "pygments_lexer": "ipython3",
   "version": "3.7.6"
  }
 },
 "nbformat": 4,
 "nbformat_minor": 2
}
